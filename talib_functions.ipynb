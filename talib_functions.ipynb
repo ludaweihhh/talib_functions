{
 "cells": [
  {
   "cell_type": "markdown",
   "metadata": {},
   "source": [
    "### 1、AD Chaikin A/D Line"
   ]
  },
  {
   "cell_type": "markdown",
   "metadata": {},
   "source": [
    "$$\\text{A/D} = \\text{昨日A/D} + \\text{多空对比} * \\text{今日成交量} \\\\\n",
    "\\text{多空对比} = \\frac{（收盘价- 最低价） - （最高价 - 收盘价）} {（最高价 - 最低价)}\\\\\n",
    "若最高价等于最低价： 多空对比 = （收盘价 / 昨收盘） - 1 $$"
   ]
  },
  {
   "cell_type": "code",
   "execution_count": null,
   "metadata": {},
   "outputs": [],
   "source": []
  },
  {
   "cell_type": "markdown",
   "metadata": {},
   "source": [
    "### 2、ADOSC               Chaikin A/D Oscillator\n"
   ]
  },
  {
   "cell_type": "markdown",
   "metadata": {},
   "source": [
    "$$\\text{ADOSC} = \\text{EMA}_{\\text{short}}(\\text{ADVOL}) - \\text{EMA}_{\\text{long}}(\\text{ADVOL})$$\n",
    "$$ADV_{t}  = \\frac{(\\text{Close}_{t} - \\text{Low}_{t}) - (\\text{High}_{t} - \\text{Close}_{t})}{\\text{High}_{t} - \\text{Low}_{t}} \\cdot \\text{Volume}_{t} \\\\$$\n",
    "$$\\text{ADVOL}_{t}  = \\sum_{}^{p}\\text{ADV}_{i} \\\\\n",
    "$$"
   ]
  },
  {
   "cell_type": "code",
   "execution_count": null,
   "metadata": {},
   "outputs": [],
   "source": []
  },
  {
   "cell_type": "markdown",
   "metadata": {},
   "source": [
    "### 3、ADX                 Average Directional Movement Index"
   ]
  },
  {
   "cell_type": "markdown",
   "metadata": {},
   "source": [
    "$$\\text{ADX}_{t} = \\text{ADX}_{t - 1} \\times \\frac{p - 1}{p} + \\text{DX}_{t} \\times \\frac{1}{p}\\\\\n",
    "注：p为用户指定的周期。\n",
    "$$"
   ]
  },
  {
   "cell_type": "code",
   "execution_count": null,
   "metadata": {},
   "outputs": [],
   "source": []
  },
  {
   "cell_type": "markdown",
   "metadata": {},
   "source": [
    "### 4、ADXR                Average Directional Movement Index Rating"
   ]
  },
  {
   "cell_type": "markdown",
   "metadata": {},
   "source": [
    "$$\\text{ADXR} = \\frac{1}{2} \\cdot (\\text{ADX}_{t} + \\text{ADX}_{t - p + 1})\\\\\n",
    "注：p是用户指定的周期。当t-p+1期没有数据时，则采用最早一起的ADX数据代替。\n",
    "$$"
   ]
  },
  {
   "cell_type": "code",
   "execution_count": null,
   "metadata": {},
   "outputs": [],
   "source": []
  },
  {
   "cell_type": "markdown",
   "metadata": {},
   "source": [
    "### 5、APO                 Absolute Price Oscillator"
   ]
  },
  {
   "cell_type": "markdown",
   "metadata": {},
   "source": [
    "$$APO 利用的是指数移动平均（EMA）的差额计算的。将长期 EMA 减去短期 EMA，即为 APO;\\\\\n",
    "APO 上升穿越 0 线可看做是上升的标志，APO 下降穿越 0 线是下降的标志。\\\\\n",
    "\\text{APO} = \\text{EMA}_{long}-\\text{EMA}_{short}$$"
   ]
  },
  {
   "cell_type": "code",
   "execution_count": null,
   "metadata": {},
   "outputs": [],
   "source": []
  },
  {
   "cell_type": "markdown",
   "metadata": {},
   "source": [
    "### 6、AROON               Aroon"
   ]
  },
  {
   "cell_type": "markdown",
   "metadata": {},
   "source": [
    "$$Aroon - up = \\frac{p - h}{p} \\times 100 \\\\\n",
    "Aroon - down = \\frac{p - l}{p} \\times 100 \\\\\n",
    "注： p代表周期长度， h代表最高价出现后的天数，l 代表最低价出现后的天数。\\\\\n",
    "计算结果解析:当向上线达到 100 时，市场处于多头强势； 如果维持在 70~100之间，表示处于多头上升趋势；同样，如果向下线达到 100时，市场处于空头强势； 如果维持在 70-100之间，表示处于空头下降趋势。当向上线达到 0时，表示多头处于极弱势，如果维持在 0~30之间，表明多头处于较弱势；当向下线达到 0 时，表示空头处于极弱势， 如果维持在0~30之间，表明空头处于较弱势。 如果两条线同处于底部，表示处于盘整时期，无趋势。如果向上线向上穿过向下线，可能出现新的向上趋势；如果向下线向上穿过向上线，可能出现新的向下趋势。$$"
   ]
  },
  {
   "cell_type": "code",
   "execution_count": null,
   "metadata": {},
   "outputs": [],
   "source": []
  },
  {
   "cell_type": "markdown",
   "metadata": {},
   "source": [
    "### 7、AROONOSC            Aroon Oscillator(阿隆震荡指标即为阿隆向上和阿隆向下之差。)"
   ]
  },
  {
   "cell_type": "markdown",
   "metadata": {},
   "source": [
    "$$\\text{Aroon - up}-\\text{Aroon - down}$$"
   ]
  },
  {
   "cell_type": "code",
   "execution_count": null,
   "metadata": {},
   "outputs": [],
   "source": []
  },
  {
   "cell_type": "markdown",
   "metadata": {},
   "source": [
    "### 8、ATR                 Average True Range"
   ]
  },
  {
   "cell_type": "markdown",
   "metadata": {},
   "source": [
    "$$\\text{ATR} = \\text{SMA}\\left( \\text{TR} \\right) \\\\\n",
    "注：ATR就是TR的简单移动平均。\\\\\n",
    "\\text{tr}_{t} = max(\\text{High}_{t},\\text{Close}_{t - 1}) - min(\\text{Low}_{t},\\text{Close}_{t - 1})\\\\\n",
    "注：公式表示的是今日最高价、今日最低价和昨日收盘价三者中最大距离。$$"
   ]
  },
  {
   "cell_type": "code",
   "execution_count": null,
   "metadata": {},
   "outputs": [],
   "source": []
  },
  {
   "cell_type": "markdown",
   "metadata": {},
   "source": [
    "### 9、AVGPRICE            Average Price"
   ]
  },
  {
   "cell_type": "markdown",
   "metadata": {},
   "source": [
    "$$\\text{AVGPRICE}_{t} = \\frac{\\text{High}_{t} + \\text{Low}_{t} + \\text{Close}_{t} + \\text{Open}_{t}}{4}\n",
    "$$"
   ]
  },
  {
   "cell_type": "code",
   "execution_count": null,
   "metadata": {},
   "outputs": [],
   "source": []
  },
  {
   "cell_type": "markdown",
   "metadata": {},
   "source": [
    "### 10、BBANDS              Bollinger Bands"
   ]
  },
  {
   "cell_type": "markdown",
   "metadata": {},
   "source": [
    "$$\\text{MA}  = \\text{SMA}(\\text{Close};p) \\\\\n",
    "\\text{UpBand}  = \\text{MA} + k\\sigma \\\\\n",
    "\\text{LoBand}  = \\text{MA} - k\\sigma \\\\\n",
    "\\text{where\\ }\\sigma  = \\text{SD}(\\text{Close};p) \\\\\n",
    "$$"
   ]
  },
  {
   "cell_type": "code",
   "execution_count": null,
   "metadata": {},
   "outputs": [],
   "source": []
  },
  {
   "cell_type": "markdown",
   "metadata": {},
   "source": [
    "### 11、BETA                Beta\n",
    "$$\\beta$$"
   ]
  },
  {
   "cell_type": "code",
   "execution_count": null,
   "metadata": {},
   "outputs": [],
   "source": []
  },
  {
   "cell_type": "markdown",
   "metadata": {},
   "source": [
    "### 12、BOP                 Balance Of Power\n",
    "$$\\text{BOP}_{t} = \\frac{\\text{Close}_{t} - \\text{Open}_{t}}{\\text{High}_{t} - \\text{Low}_{t}}\n",
    "$$"
   ]
  },
  {
   "cell_type": "code",
   "execution_count": null,
   "metadata": {},
   "outputs": [],
   "source": []
  },
  {
   "cell_type": "markdown",
   "metadata": {},
   "source": [
    "### 13、CCI                 Commodity Channel Index\n",
    "$$\\text{CCI} = \\frac{1}{0.015}\\frac{{\\overline{p}}_{t} - \\text{SMA}({\\overline{p}}_{t})}{\\sigma({\\overline{p}}_{t})}\\\\\n",
    "note:\\overline{p} = \\frac{1}{3} \\cdot (\\text{High} + \\text{Close} + \\text{Low})\\\\\n",
    "这里的不是标准差，而是平均绝对离差（average absolute deviation）。\\\\\n",
    "\\sigma({\\overline{p}}_{t}) = \\frac{1}{n} \\cdot \\sum|\\overline{p} - \\text{SMA}(\\overline{p})|\n",
    "$$"
   ]
  },
  {
   "cell_type": "code",
   "execution_count": null,
   "metadata": {},
   "outputs": [],
   "source": []
  },
  {
   "cell_type": "markdown",
   "metadata": {},
   "source": [
    "14、\n",
    "CDL2CROWS           Two Crows\n",
    "\n",
    "CDL3BLACKCROWS      Three Black Crows\n",
    "\n",
    "CDL3INSIDE          Three Inside Up/Down\n",
    "\n",
    "CDL3LINESTRIKE      Three-Line Strike \n",
    "\n",
    "CDL3OUTSIDE         Three Outside Up/Down\n",
    "\n",
    "CDL3STARSINSOUTH    Three Stars In The South\n",
    "\n",
    "CDL3WHITESOLDIERS   Three Advancing White Soldiers\n",
    "\n",
    "CDLABANDONEDBABY    Abandoned Baby\n",
    "\n",
    "CDLADVANCEBLOCK     Advance Block\n",
    "\n",
    "CDLBELTHOLD         Belt-hold\n",
    "\n",
    "CDLBREAKAWAY        Breakaway\n",
    "\n",
    "CDLCLOSINGMARUBOZU  Closing Marubozu\n",
    "\n",
    "CDLCONCEALBABYSWALL Concealing Baby Swallow\n",
    "\n",
    "CDLCOUNTERATTACK    Counterattack\n",
    "\n",
    "CDLDARKCLOUDCOVER   Dark Cloud Cover\n",
    "\n",
    "CDLDOJI             Doji\n",
    "\n",
    "CDLDOJISTAR         Doji Star\n",
    "\n",
    "CDLDRAGONFLYDOJI    Dragonfly Doji\n",
    "\n",
    "CDLENGULFING        Engulfing Pattern\n",
    "\n",
    "CDLEVENINGDOJISTAR  Evening Doji Star\n",
    "\n",
    "CDLEVENINGSTAR      Evening Star\n",
    "\n",
    "CDLGAPSIDESIDEWHITE Up/Down-gap side-by-side white lines\n",
    "\n",
    "CDLGRAVESTONEDOJI   Gravestone Doji\n",
    "\n",
    "CDLHAMMER           Hammer\n",
    "\n",
    "CDLHANGINGMAN       Hanging Man\n",
    "\n",
    "CDLHARAMI           Harami Pattern\n",
    "\n",
    "CDLHARAMICROSS      Harami Cross Pattern\n",
    "\n",
    "CDLHIGHWAVE         High-Wave Candle\n",
    "\n",
    "CDLHIKKAKE          Hikkake Pattern\n",
    "\n",
    "CDLHIKKAKEMOD       Modified Hikkake Pattern\n",
    "\n",
    "CDLHOMINGPIGEON     Homing Pigeon\n",
    "\n",
    "CDLIDENTICAL3CROWS  Identical Three Crows\n",
    "\n",
    "CDLINNECK           In-Neck Pattern\n",
    "\n",
    "CDLINVERTEDHAMMER   Inverted Hammer\n",
    "\n",
    "CDLKICKING          Kicking\n",
    "\n",
    "CDLKICKINGBYLENGTH  Kicking - bull/bear determined by the longer marubozu\n",
    "\n",
    "CDLLADDERBOTTOM     Ladder Bottom\n",
    "\n",
    "CDLLONGLEGGEDDOJI   Long Legged Doji\n",
    "\n",
    "CDLLONGLINE         Long Line Candle\n",
    "\n",
    "CDLMARUBOZU         Marubozu\n",
    "\n",
    "CDLMATCHINGLOW      Matching Low\n",
    "\n",
    "CDLMATHOLD          Mat Hold\n",
    "\n",
    "CDLMORNINGDOJISTAR  Morning Doji Star\n",
    "\n",
    "CDLMORNINGSTAR      Morning Star\n",
    "\n",
    "CDLONNECK           On-Neck Pattern\n",
    "\n",
    "CDLPIERCING         Piercing Pattern\n",
    "\n",
    "CDLRICKSHAWMAN      Rickshaw Man\n",
    "\n",
    "CDLRISEFALL3METHODS Rising/Falling Three Methods\n",
    "\n",
    "CDLSEPARATINGLINES  Separating Lines\n",
    "\n",
    "CDLSHOOTINGSTAR     Shooting Star\n",
    "\n",
    "CDLSHORTLINE        Short Line Candle\n",
    "\n",
    "CDLSPINNINGTOP      Spinning Top\n",
    "\n",
    "CDLSTALLEDPATTERN   Stalled Pattern\n",
    "\n",
    "CDLSTICKSANDWICH    Stick Sandwich\n",
    "\n",
    "CDLTAKURI           Takuri (Dragonfly Doji with very long lower shadow)\n",
    "\n",
    "CDLTASUKIGAP        Tasuki Gap\n",
    "\n",
    "CDLTHRUSTING        Thrusting Pattern\n",
    "\n",
    "CDLTRISTAR          Tristar Pattern\n",
    "\n",
    "CDLUNIQUE3RIVER     Unique 3 River\n",
    "\n",
    "CDLUPSIDEGAP2CROWS  Upside Gap Two Crows\n",
    "\n",
    "CDLXSIDEGAP3METHODS Upside/Downside Gap Three Methods\n",
    "\n",
    "点击查看包括但不限于以上的k线形态：https://www.sl886.com/p/%E9%99%B0%E9%99%BD%E7%87%AD"
   ]
  },
  {
   "cell_type": "markdown",
   "metadata": {},
   "source": [
    "### 15、CMO                 Chande Momentum Oscillator\n",
    "$$\\text{CMO} = \\frac{\\sum U_{i} - \\sum D_{i}}{\\sum U_{i} + \\sum D_{i}} \\times 100\\\\\n",
    "注：U_{i}是两日收盘价之差，若为负值则为零，D_{i}是两日收盘价之差的绝对值，若为正值则为零。\n",
    "$$"
   ]
  },
  {
   "cell_type": "code",
   "execution_count": null,
   "metadata": {},
   "outputs": [],
   "source": []
  },
  {
   "cell_type": "markdown",
   "metadata": {},
   "source": [
    "### 16、CORREL              Pearson's Correlation Coefficient (r) (相关系数)\n",
    "$$Corr = \\frac{Cov(x,y)}{Var(x)*Var(y)}$$"
   ]
  },
  {
   "cell_type": "code",
   "execution_count": null,
   "metadata": {},
   "outputs": [],
   "source": []
  },
  {
   "cell_type": "markdown",
   "metadata": {},
   "source": [
    "### 17、DEMA                Double Exponential Moving Average\n",
    "$$\\text{DEMA}_{t} = (1 + v) \\cdot \\text{EMA}_{t} - v \\cdot \\text{EMA}(\\text{EMA}_{t})\\\\\n",
    "v默认为1，若v=0则DEMA=EMA\n",
    "$$"
   ]
  },
  {
   "cell_type": "code",
   "execution_count": null,
   "metadata": {},
   "outputs": [],
   "source": []
  },
  {
   "cell_type": "markdown",
   "metadata": {},
   "source": [
    "### 18、DX                  Directional Movement Index\n",
    "$$\\text{DX} = \\frac{\\text{PLUSDI}_{t} - \\text{MINUSDI}_{t}}{\\text{PLUSDI}_{t} + \\text{MINUSDI}_{t}} \\times 100\\\\\n",
    "注：其中 DI 的计算方法可参见 PLUSDI 和 MINUSDI 部分。\n",
    "$$"
   ]
  },
  {
   "cell_type": "code",
   "execution_count": null,
   "metadata": {},
   "outputs": [],
   "source": []
  },
  {
   "cell_type": "markdown",
   "metadata": {},
   "source": [
    "### 19、DIV\n",
    "$$求矢量散度\\\\\n",
    "设某量场由 A(x,y,z) = P(x,y,z)i + Q(x.y,z)j + R(x,y,z)k\\\\\n",
    "divA = \\frac{δP}{δx} + \\frac{δQ}{δy} + \\frac{δR}{δz}$$"
   ]
  },
  {
   "cell_type": "code",
   "execution_count": null,
   "metadata": {},
   "outputs": [],
   "source": []
  },
  {
   "cell_type": "markdown",
   "metadata": {},
   "source": [
    "### 20、EMA                 Exponential Moving Average\n",
    "$$S_{1}  = Y_{1} \\\\\n",
    "S_{t}  = \\alpha \\cdot Y_{t} + (1 - \\alpha) \\cdot S_{t - 1}(t > 1) \\\\\n",
    "注：1、系数 \\alpha 代表权重下降的速度。 \\alpha越大，旧数据所占权重下降的越快，2、Y_{t} 代表 t时期的数值，3、S_{t} 代表 t时期的指数移动平均，4、注意两项系数的和总为1。\n",
    "我们这里使用的系数为\\\\\\alpha = \\frac{2}{\\min\\lbrack t - 1,p\\rbrack + 1}(t \\geq 2)\\\\\n",
    "注：这里的  P是用户指定的周期。需要注意的是，这里的周期和简单移动平均、加权移动平均中的周期意义并不完全相同：后两者周期外的数据完全被舍弃，而EMA中周期外的数据仍然参与计算，只是周期内的数据计算比重较大。（当 p足够大时，其比重接近1 - e^{- 2}）\n",
    "$$"
   ]
  },
  {
   "cell_type": "code",
   "execution_count": null,
   "metadata": {},
   "outputs": [],
   "source": []
  },
  {
   "cell_type": "markdown",
   "metadata": {},
   "source": [
    "$$设实值函数x(t),希尔伯特变换为\\widehat{x}(t)\\\\$$\n",
    "$$\\widehat{x}(t)=H[x(t)]=\\frac{1}{\\pi}\\int \\frac{x(\\tau)}{t-\\tau}d\\tau$$\n",
    "\n",
    "### 21、HT_DCPERIOD         Hilbert Transform - Dominant Cycle Period\n",
    "$$计算价格处在的周期的位置\n",
    "$$\n",
    "\n",
    "### 22、HT_DCPHASE          Hilbert Transform - Dominant Cycle Phase\n",
    "$$希尔伯特变换-主导循环阶段\n",
    "$$\n",
    "\n",
    "### 23、HT_PHASOR           Hilbert Transform - Phasor Components\n",
    "$$希尔伯特变换-希尔伯特变换相量分量 $$\n",
    "\n",
    "### 24、HT_SINE             Hilbert Transform - SineWave\n",
    "$$希尔伯特变换-正弦波$$\n",
    "\n",
    "### 25、HT_TRENDLINE        Hilbert Transform - Instantaneous Trendline\n",
    "$$希尔伯特瞬时变换\n",
    "$$\n",
    "\n",
    "### 26、HT_TRENDMODE        Hilbert Transform - Trend vs Cycle Mode\n",
    "$$希尔伯特变换-趋势与周期模式\n",
    "$$"
   ]
  },
  {
   "cell_type": "code",
   "execution_count": null,
   "metadata": {},
   "outputs": [],
   "source": []
  },
  {
   "cell_type": "markdown",
   "metadata": {},
   "source": [
    "### 27、KAMA                Kaufman Adaptive Moving Average\n",
    "$$\\text{KAMA}_{t} = \\text{KAMA}_{t - 1} + sc_{t} \\times \\text{Price}_{t} - \\text{KAMA}_{t - 1}\\\\\n",
    "sc_{t} = (ER_{t} \\cdot (fastest - slowest) + slowest)^{2}\\\\\n",
    "fastest = \\frac{2}{\\text{Fastest\\ MA\\ Period} + 1}\\\\\n",
    "slowest = \\frac{2}{\\text{Slowest\\ MA\\ period} + 1}\\\\\n",
    "ER_{i} = \\frac{|\\text{Price}_{t} - \\text{Price}_{t - n}|}{\\sum_{i}^{i - n}|\\text{Price}_{t} - \\text{Price}_{t - 1}|}\n",
    "$$"
   ]
  },
  {
   "cell_type": "code",
   "execution_count": null,
   "metadata": {},
   "outputs": [],
   "source": []
  },
  {
   "cell_type": "markdown",
   "metadata": {},
   "source": [
    "### 28、LINEARREG           Linear Regression(线性回归)\n",
    "$$其表达形式为y = bx+e，e为误差服从均值为0的正态分布。$$\n",
    "\n",
    "### 29、LINEARREG_ANGLE     Linear Regression Angle(线性回归的角度)\n",
    "\n",
    "### 30、LINEARREG_INTERCEPT Linear Regression Intercept（线性回归的截距）\n",
    "\n",
    "### 31、LINEARREG_SLOPE     Linear Regression Slope(线性回归的斜率)"
   ]
  },
  {
   "cell_type": "code",
   "execution_count": null,
   "metadata": {},
   "outputs": [],
   "source": []
  },
  {
   "cell_type": "markdown",
   "metadata": {},
   "source": [
    "### 32、MA                  All Moving Average\n",
    "$$1.N日MA= \\frac{N日收市价的总和}{N(即算术平均数)}\\\\\n",
    "2.要设置多条移动平均线，一般参数设置为N1=5,N2=10,N3=20,N4=60,N5=120,N6=250$$"
   ]
  },
  {
   "cell_type": "code",
   "execution_count": null,
   "metadata": {},
   "outputs": [],
   "source": []
  },
  {
   "cell_type": "markdown",
   "metadata": {},
   "source": [
    "### 33、MACD                Moving Average Convergence/Divergence\n",
    "$$\\text{MACD} = 2 \\times (\\text{DIF} - \\text{DEA})\\\\\n",
    "\\text{DIF} = \\text{EMA}_{s} - \\text{EMA}_{f}\\\\\n",
    "\\text{DEA} = \\text{EMA}(\\text{DIF},p)\\\\\n",
    "注：短期EMA：默认采用周期为10，长期EMA：默认采用周期为15，通常来说， DIF\n",
    "向上穿过DEA是买进信号；DEA 向上穿过 DIF 是卖出信号。\n",
    "$$"
   ]
  },
  {
   "cell_type": "code",
   "execution_count": null,
   "metadata": {},
   "outputs": [],
   "source": []
  },
  {
   "cell_type": "markdown",
   "metadata": {},
   "source": [
    "### 34、MACDEXT             MACD with controllable MA type \n",
    "$$具有可控MA类型的MACD\\\\\n",
    "macd, macdsignal, macdhist = MACDEXT(close, fastperiod=12, fastmatype=0, slowperiod=26, slowmatype=0, signalperiod=9, signalmatype=0)\\\\\n",
    "matype:主要就是使用不一样的加权方式对数据进行处理。\\\\\n",
    "MAType: 0=SMA, 1=EMA, 2=WMA, 3=DEMA, 4=TEMA, 5=TRIMA, 6=KAMA, 7=MAMA, 8=T3 (Default=SMA)\n",
    "$$"
   ]
  },
  {
   "cell_type": "code",
   "execution_count": null,
   "metadata": {},
   "outputs": [],
   "source": []
  },
  {
   "cell_type": "markdown",
   "metadata": {},
   "source": [
    "### 35、MACDFIX             Moving Average Convergence/Divergence Fix 12/26（MACD的修正）\n",
    "$$DIFF:=(EMA(CLOSE,12)-EMA(CLOSE,26));\\\\\n",
    "DIF:=DIFF/MA(C,4);\\\\\n",
    "DEA:=EMA(DIF,9)/MA(C,12);\\\\\n",
    "MACD:(DIF-DEA)*2,COLORSTICK;\\\\\n",
    "IF(MACD<REF(MACD,1) AND MACD>0,MACD,DRAWNULL)COLORBLUE LINETHICK2;\\\\\n",
    "IF(MACD>=REF(MACD,1) AND MACD<0,MACD,DRAWNULL)COLORYELLOW LINETHICK2;$$"
   ]
  },
  {
   "cell_type": "code",
   "execution_count": null,
   "metadata": {},
   "outputs": [],
   "source": []
  },
  {
   "cell_type": "markdown",
   "metadata": {},
   "source": [
    "### 36、MAMA                MESA Adaptive Moving Average(MESA自适应移动平均)\n",
    "$$这种自适应是基于希尔伯特变换鉴别器测量的相位速率变化。\\\\\n",
    "（复杂）http://www.mesasoftware.com/papers/MAMA.pdf$$"
   ]
  },
  {
   "cell_type": "code",
   "execution_count": null,
   "metadata": {},
   "outputs": [],
   "source": []
  },
  {
   "cell_type": "markdown",
   "metadata": {},
   "source": [
    "### 37、MAX                 Highest value over a specified period(最大值)"
   ]
  },
  {
   "cell_type": "code",
   "execution_count": null,
   "metadata": {},
   "outputs": [],
   "source": []
  },
  {
   "cell_type": "markdown",
   "metadata": {},
   "source": [
    "### 38、MAXINDEX            Index of highest value over a specified period（获取最大值位置）\n",
    "$$example:\\\\\n",
    "private static void getMaxKeyAndIndex() {\\\\\n",
    "\t\tint[] nums = { 0, 1, 2, 3, 54, 5, 167, 7, 167, 12, 23, 89, 1 };\\\\\n",
    "\t\tint maxNum = -1;\\\\\n",
    "\t\tint maxIndex = -1;\\\\\n",
    "\t\tint i = 0;\\\\\n",
    "\t\tmaxNum = nums[i];\\\\\n",
    "\t\tint j = 1;\\\\\n",
    "\t\twhile (true) {\\\\\n",
    "\t\t\tint tmp = nums[j];\\\\\n",
    "\t\t\tif (tmp > maxNum) {\\\\\n",
    "\t\t\t\tmaxNum = tmp;\\\\\n",
    "\t\t\t\ti = j;\\\\\n",
    "\t\t\t}\\\\\n",
    "\t\t\tj++;\\\\\n",
    "\t\t\tif (j == nums.length) {\\\\\n",
    "\t\t\t\tmaxIndex = i;\\\\\n",
    "\t\t\t\tbreak;\\\\\n",
    "\t\t\t}\\\\\n",
    "\t\t}\\\\\n",
    "\t\tSystem.out.println( maxIndex);\\\\\n",
    "\t}$$"
   ]
  },
  {
   "cell_type": "code",
   "execution_count": null,
   "metadata": {},
   "outputs": [],
   "source": []
  },
  {
   "cell_type": "markdown",
   "metadata": {},
   "source": [
    "### 39、MEDPRICE            Median Price\n",
    "$$\\text{MEDPRICE}_{t} = \\frac{\\text{High}_{t} + \\text{Low}_{t}}{2}$$"
   ]
  },
  {
   "cell_type": "code",
   "execution_count": null,
   "metadata": {},
   "outputs": [],
   "source": []
  },
  {
   "cell_type": "markdown",
   "metadata": {},
   "source": [
    "### 40、MFI                 Money Flow Index\n",
    "$$MFI=\\dfrac{\\Sigma ^t_{i=t-p+1}PMF_i}{\\Sigma ^t_{i=t-p+1}NMF_i+PMF_i} \\cdot 100\\\\\n",
    "$$"
   ]
  },
  {
   "cell_type": "code",
   "execution_count": null,
   "metadata": {},
   "outputs": [],
   "source": []
  },
  {
   "cell_type": "markdown",
   "metadata": {},
   "source": [
    "### 41、MIDPOINT            MidPoint over period\n",
    "$$\\text{MIDPOINT}_{t} = \\frac{\\max_{t - p + 1 \\leq i \\leq t}\\text{Close}_{i} + \\min_{t - p + 1 \\leq i \\leq t}\\text{Close}_{i}}{2}\n",
    "$$"
   ]
  },
  {
   "cell_type": "code",
   "execution_count": null,
   "metadata": {},
   "outputs": [],
   "source": []
  },
  {
   "cell_type": "markdown",
   "metadata": {},
   "source": [
    "### 42、MIDPRICE            Midpoint Price over period\n",
    "$$\n",
    "\\text{MIDPRICE}_{t} = \\frac{\\max_{t - p + 1 \\leq i \\leq t}\\text{High}_{i} + \\min_{t - p + 1 \\leq i \\leq t}\\text{Low}_{i}}{2}\n",
    "$$"
   ]
  },
  {
   "cell_type": "code",
   "execution_count": null,
   "metadata": {},
   "outputs": [],
   "source": []
  },
  {
   "cell_type": "markdown",
   "metadata": {},
   "source": [
    "### 43、MIN                 Lowest value over a specified period（最小值）"
   ]
  },
  {
   "cell_type": "code",
   "execution_count": null,
   "metadata": {},
   "outputs": [],
   "source": []
  },
  {
   "cell_type": "markdown",
   "metadata": {},
   "source": [
    "### 44、MININDEX            Index of lowest value over a specified period（最小值位置）"
   ]
  },
  {
   "cell_type": "code",
   "execution_count": null,
   "metadata": {},
   "outputs": [],
   "source": []
  },
  {
   "cell_type": "markdown",
   "metadata": {},
   "source": [
    "### 45、MINMAX              Lowest and highest values over a specified period（最大值和最小值）"
   ]
  },
  {
   "cell_type": "code",
   "execution_count": null,
   "metadata": {},
   "outputs": [],
   "source": []
  },
  {
   "cell_type": "markdown",
   "metadata": {},
   "source": [
    "### 46、MINMAXINDEX         Indexes of lowest and highest values over a specified period（最大值和最小值的位置）"
   ]
  },
  {
   "cell_type": "code",
   "execution_count": null,
   "metadata": {},
   "outputs": [],
   "source": []
  },
  {
   "cell_type": "markdown",
   "metadata": {},
   "source": [
    "### 47、MINUS_DI            Minus Directional Indicator\n",
    "$$\\text{MINUSDI} = \\frac{\\sum\\text{MINUSDM}}{\\sum\\text{TR}} \\times 100\n",
    "$$"
   ]
  },
  {
   "cell_type": "code",
   "execution_count": null,
   "metadata": {},
   "outputs": [],
   "source": []
  },
  {
   "cell_type": "markdown",
   "metadata": {},
   "source": [
    "### 48、MINUS_DM            Minus Directional Movement\n",
    "$$\\text{MINUSDM}_{t} = \\text{Low}_{t - 1} - \\text{Low}_{t}\\\\注：若价差为负，该指标为 0\n",
    "$$"
   ]
  },
  {
   "cell_type": "code",
   "execution_count": null,
   "metadata": {},
   "outputs": [],
   "source": []
  },
  {
   "cell_type": "markdown",
   "metadata": {},
   "source": [
    "### 49、MOM                 Momentum（动量）\n",
    "$$考察价格的涨跌速度，以价格涨跌速度的变化分析价格趋势的指标。\\\\\n",
    "以日MOM指标为例，其计算过程如下：\\\\\n",
    "MTM（N日）=C-CN\\\\\n",
    "C=当日的收盘价\\\\\n",
    "CN=N日前的收盘价\\\\\n",
    "$$"
   ]
  },
  {
   "cell_type": "code",
   "execution_count": null,
   "metadata": {},
   "outputs": [],
   "source": []
  },
  {
   "cell_type": "markdown",
   "metadata": {},
   "source": [
    "### 50、NATR                Normalized Average True Range\n",
    "$$\\text{NATR} = \\frac{\\text{ATR}}{\\text{Close}_{t}} \\times 100\n",
    "$$"
   ]
  },
  {
   "cell_type": "code",
   "execution_count": null,
   "metadata": {},
   "outputs": [],
   "source": []
  },
  {
   "cell_type": "markdown",
   "metadata": {},
   "source": [
    "### 51、OBV                 On Balance Volume\n",
    "$$\\text{OBV}_{t} = \\left\\{ \\begin{matrix}\n",
    "\\text{OBV}_{t - p} + \\text{Volume}_{t}  (\\text{Close}_{t} > \\text{Close}_{t - 1}) \\\\\n",
    "\\text{OBV}_{t - p} - \\text{Volume}_{t}  (\\text{Close}_{t} < \\text{Close}_{t - 1}) \\\\\n",
    "\\text{OBV}_{t - p}  (\\text{Close}_{t} = \\text{Close}_{t - 1}) \\\\\n",
    "\\end{matrix} \\right.\\ \n",
    "$$"
   ]
  },
  {
   "cell_type": "code",
   "execution_count": null,
   "metadata": {},
   "outputs": [],
   "source": []
  },
  {
   "cell_type": "markdown",
   "metadata": {},
   "source": [
    "### 52、PLUS_DI             Plus Directional Indicator\n",
    "$$\\text{PLUSDI} = \\frac{\\sum\\text{PLUSDM}}{\\sum\\text{TR}} \\times 100\n",
    "$$"
   ]
  },
  {
   "cell_type": "code",
   "execution_count": null,
   "metadata": {},
   "outputs": [],
   "source": []
  },
  {
   "cell_type": "markdown",
   "metadata": {},
   "source": [
    "### 53、PLUS_DM             Plus Directional Movement\n",
    "$$\\text{PLUSDM}_{t} = \\text{High}_{t} - \\text{High}_{t - 1}\n",
    "$$"
   ]
  },
  {
   "cell_type": "code",
   "execution_count": null,
   "metadata": {},
   "outputs": [],
   "source": []
  },
  {
   "cell_type": "markdown",
   "metadata": {},
   "source": [
    "### 54、PPO                 Percentage Price Oscillator\n",
    "$$PPO=\\frac{9dayEMA-26dayEMA}{26dayEMA}*100\\%\n",
    "$$"
   ]
  },
  {
   "cell_type": "code",
   "execution_count": null,
   "metadata": {},
   "outputs": [],
   "source": []
  },
  {
   "cell_type": "markdown",
   "metadata": {},
   "source": [
    "### 55、ROC                 Rate of change : ((price/prevPrice)-1)*100\n",
    "$$\\text{ROC} = \\frac{\\text{Close}_{t} - \\text{Close}_{t - p}}{\\text{Close}_{t - p}} \\times 100\n",
    "$$"
   ]
  },
  {
   "cell_type": "code",
   "execution_count": null,
   "metadata": {},
   "outputs": [],
   "source": []
  },
  {
   "cell_type": "markdown",
   "metadata": {},
   "source": [
    "### 56、ROCP                Rate of change Percentage: (price-prevPrice)/prevPrice\n",
    "$$\\text{ROCP} = \\frac{\\text{Close}_{t} - \\text{Close}_{t - p}}{\\text{Close}_{t - p}}\n",
    "$$"
   ]
  },
  {
   "cell_type": "code",
   "execution_count": null,
   "metadata": {},
   "outputs": [],
   "source": []
  },
  {
   "cell_type": "markdown",
   "metadata": {},
   "source": [
    "### 57、ROCR                Rate of change ratio: (price/prevPrice)\n",
    "$$\\text{ROCR} = \\frac{\\text{Close}_{t}}{\\text{Close}_{t - p}}\n",
    "$$"
   ]
  },
  {
   "cell_type": "code",
   "execution_count": null,
   "metadata": {},
   "outputs": [],
   "source": []
  },
  {
   "cell_type": "markdown",
   "metadata": {},
   "source": [
    "### 58、ROCR100             Rate of change ratio 100 scale: (price/prevPrice)*100\n",
    "$$ROCR100 = \\frac{\\text{Close}_{t}}{\\text{Close}_{t - p}} \\times 100\n",
    "$$"
   ]
  },
  {
   "cell_type": "code",
   "execution_count": null,
   "metadata": {},
   "outputs": [],
   "source": []
  },
  {
   "cell_type": "markdown",
   "metadata": {},
   "source": [
    "### 59、RSI                 Relative Strength Index\n",
    "$$RSI = 100 - \\frac{100}{1 + RS}\\\\\n",
    "U = max\\lbrack\\text{close}_{\\text{now}} - \\text{close}_{\\text{previous}},0\\rbrack\n",
    "\\\\\n",
    "D = \\max\\lbrack\\text{close}_{\\text{previous}} - \\text{close}_{\\text{now}},0\\rbrack\n",
    "\\\\\n",
    "RS = \\frac{\\text{EU}}{\\text{ED}} = \\frac{\\text{SMMA}(U,p)}{\\text{SMMA}(D,p)}\\\\\n",
    "注：这里使用的是”exponentially smoothed MovingAverage“，可看作是系数为1/p的指数移动均值.\n",
    "$$"
   ]
  },
  {
   "cell_type": "code",
   "execution_count": null,
   "metadata": {},
   "outputs": [],
   "source": []
  },
  {
   "cell_type": "markdown",
   "metadata": {},
   "source": [
    "### 60、SAR                 Parabolic SAR\n",
    "$$\\text{SAR}_{n + 1} = \\text{SAR}_{n} + \\alpha(\\text{EP} - \\text{SAR}_{n})\\\\\n",
    "注：EP（ExtremePoint）是目前向上（下）趋势中的最高（低）价位，\\alpha是加速因子。通常来说，取0.02。每当 EP 更新后，加速因子都会增长0.02。这样的设计可以让SAR更加快速的趋近于价格。为防止加速因子过大，通常加速因子会设定一个上限，一般取 0.2。\n",
    "$$"
   ]
  },
  {
   "cell_type": "code",
   "execution_count": null,
   "metadata": {},
   "outputs": [],
   "source": []
  },
  {
   "cell_type": "markdown",
   "metadata": {},
   "source": [
    "### 61、SAREXT              Parabolic SAR - Extended\n",
    "$$SAREXT是SAR的拓展指标，比SAR可以传入更多的参数\\\\\n",
    "startValue：初始值\\\\\n",
    "offsetOnReverse：转向时的百分比\\\\\n",
    "accelerationInitLong：上升情况下加速系数的初值\\\\\n",
    "accelerationLongStep：上升情况下加速系数的步长\\\\\n",
    "accelerationMaxLong：上升情况下加速系数的最大值\\\\\n",
    "accelerationInitShort：下降情况下加速系数的初值\\\\\n",
    "accelerationShortStep：下降情况下加速系数的步长\\\\\n",
    "accelerationMaxShort：下降情况下加速系数的最大值\\\\\n",
    "$$"
   ]
  },
  {
   "cell_type": "code",
   "execution_count": null,
   "metadata": {},
   "outputs": [],
   "source": []
  },
  {
   "cell_type": "markdown",
   "metadata": {},
   "source": [
    "### 62、SMA                 Simple Moving Average\n",
    "$$\\text{SMA}_{t}(x;p) = \\frac{1}{p} \\cdot \\sum_{i = t - p + 1}^{t}x_{i} = \\frac{x_{t} + x_{t - 1} + \\cdots + x_{t - p + 1}}{p}\n",
    "$$"
   ]
  },
  {
   "cell_type": "code",
   "execution_count": null,
   "metadata": {},
   "outputs": [],
   "source": []
  },
  {
   "cell_type": "markdown",
   "metadata": {},
   "source": [
    "### 63、STDDEV              Standard Deviation(标准差)"
   ]
  },
  {
   "cell_type": "code",
   "execution_count": null,
   "metadata": {},
   "outputs": [],
   "source": []
  },
  {
   "cell_type": "markdown",
   "metadata": {},
   "source": [
    "### 64、STOCH               Stochastic\n",
    "$$Stochastics指标对比给定的一段时期里，价格的范围同价格收市价（close）的相关情况。该振荡指标以双线来显示。主线被称为\\%K线。第二根线被称为\\%D线，它的数值是主线\\%K的移动平均线。\\%K通常显示为一条实心的曲线，而\\%D线则显示为点状曲线。\\\\\n",
    "计算方法\\\\\n",
    "随机震荡指标有四个参数:\\\\\n",
    "\\%K 周期：这是在计算震荡指标过程中所用到的时间周期。\\\\\n",
    "\\%K慢速周期：这个数值控制着\\%K内在的平滑度。参数为1被看作是快速随机震荡指标，参数为3则被视为慢速随机指标。默认是3。\\\\\n",
    "\\%D周期：在计算\\%K移动平均线时，所用到的时间周期\\\\\n",
    "\\%D方法：在计算\\%D时所使用的方法（包括简单，指数，通畅和加权）\\\\\n",
    "\\%K的方程式:\\\\\n",
    "\\%K = 100* (LOSE-LOW(\\%K))/(HIGH(\\%K)-LOW(\\%K))\\\\\n",
    "注释:\\\\\n",
    "CLOSE — 当天的收盘价格;\\\\\n",
    "LOW(\\%K) — \\%K的最低值\\\\\n",
    "HIGH(\\%K) — \\%K的最高值\\\\\n",
    "根据公式，我们可以计算出\\%D的移动平均线:\\\\\n",
    "\\%D = SMA(\\%K, N)\\\\\n",
    "注释:\\\\\n",
    "N —用于计算的时间周期\\\\\n",
    "SMA — 简单移动平均线$$"
   ]
  },
  {
   "cell_type": "code",
   "execution_count": null,
   "metadata": {},
   "outputs": [],
   "source": []
  },
  {
   "cell_type": "markdown",
   "metadata": {},
   "source": [
    "### 65、STOCHF              Stochastic Fast\n",
    "$$随机快步FAST(KD)相对于随机指标KDJ而言, 其随机性更强。其计算式为: \\\\\n",
    "今(N)日FAST(K)=\\frac{C-L}{H-L}\\\\ \n",
    "式中: H ：N日内的最高价; \\\\\n",
    "L ：N日内的最低价; \\\\\n",
    "C ：最后的收盘价; \\\\\n",
    "今(N)日FAST(D) ＝ 2/3昨日FAST(D) ＋ 1/3今日FAST(K) \\\\\n",
    "式中: 昨日FAST(D)初始值取5日即可。 \\\\\n",
    "从算式可见, 它是以N日内市场多方的力道(C-L)与多空总力道(H-L)之比率来研判市势。 $$"
   ]
  },
  {
   "cell_type": "code",
   "execution_count": null,
   "metadata": {},
   "outputs": [],
   "source": []
  },
  {
   "cell_type": "markdown",
   "metadata": {},
   "source": [
    "### 66、STOCHRSI            Stochastic Relative Strength Index\n",
    "$$Stoch RSI = \\frac{Current RSI - Lowest RSI}{Highest RSI - Lowest RSI}\\\\\n",
    "与标准RSI一样，StochRSI使用的最常见时间周期为14。$$"
   ]
  },
  {
   "cell_type": "code",
   "execution_count": null,
   "metadata": {},
   "outputs": [],
   "source": []
  },
  {
   "cell_type": "markdown",
   "metadata": {},
   "source": [
    "### 67、SUM                 Summation(求和)"
   ]
  },
  {
   "cell_type": "code",
   "execution_count": null,
   "metadata": {},
   "outputs": [],
   "source": []
  },
  {
   "cell_type": "markdown",
   "metadata": {},
   "source": [
    "### 68、T3                  Triple Exponential Moving Average (T3)\n",
    "$$T_{1,t}  = \\text{DEMA}_{t}(x;p,v) \\\\\n",
    "T_{2,t}  = \\text{DEMA}_{t}(T_{1,t};p,v) \\\\\n",
    "T_{3,t}  = \\text{DEMA}_{t}(T_{2,t};p,v) \\\\\n",
    "$$"
   ]
  },
  {
   "cell_type": "code",
   "execution_count": null,
   "metadata": {},
   "outputs": [],
   "source": []
  },
  {
   "cell_type": "markdown",
   "metadata": {},
   "source": [
    "### 69、TEMA                Triple Exponential Moving Average\n",
    "$$E_{1,t}  = \\text{EMA}_{t}(x;p) \\\\\n",
    "E_{2,t}  = \\text{EMA}_{t}(E_{1,t};p) \\\\\n",
    "E_{3,t}  = \\text{EMA}_{t}(E_{2,t};p) \\\\\n",
    "\\text{TEMA}_{t}  = 3E_{1,t} - 3E_{2,t} + E_{3,t} \\\\\n",
    "\\text{TMA}_{t}(x;p) = \\text{SMA}_{t}(\\text{SMA}_{t}(x_{t};\\lceil p/2\\rceil);\\lfloor p/2\\rfloor + 1)\n",
    "$$"
   ]
  },
  {
   "cell_type": "code",
   "execution_count": null,
   "metadata": {},
   "outputs": [],
   "source": []
  },
  {
   "cell_type": "markdown",
   "metadata": {},
   "source": [
    "### 70、TRANGE              True Range（真实范围）\n",
    "$$tr = \\max\\left( high,prev\\, close \\right) - \\min\\left( low,prev\\, close \\right)\\\\\n",
    "注：TR表明今日最高价、今日最低价和昨日收盘价三者中最大距离。\n",
    "$$"
   ]
  },
  {
   "cell_type": "code",
   "execution_count": null,
   "metadata": {},
   "outputs": [],
   "source": []
  },
  {
   "cell_type": "markdown",
   "metadata": {},
   "source": [
    "### 71、TRIMA               Triangular Moving Average（三角移动平均线即TMA）\n",
    "$$\\text{TRIMA}_{t} = \\text{SMA}_{t}(\\text{TRIX}_{t}(x_{t};p_{1});p_{2})\n",
    "$$"
   ]
  },
  {
   "cell_type": "code",
   "execution_count": null,
   "metadata": {},
   "outputs": [],
   "source": []
  },
  {
   "cell_type": "markdown",
   "metadata": {},
   "source": [
    "### 72、TRIX                1-day Rate-Of-Change (ROC) of a Triple Smooth EMA\n",
    "$$\\text{EMA}_{1}  = \\text{EMA}(\\text{Close},p) \\\\\n",
    "\\text{EMA}_{2}  = \\text{EMA}(\\text{EMA}_{1},p) \\\\\n",
    "\\text{EMA}_{3}  = \\text{EMA}(\\text{EMA}_{2},p) \\\\\n",
    "\\text{TRIX}  = \\frac{\\text{EMA}_{3,t} - \\text{EMA}_{3,t - 1}}{\\text{EMA}_{3,t - 1}} \\\\\n",
    "$$"
   ]
  },
  {
   "cell_type": "code",
   "execution_count": null,
   "metadata": {},
   "outputs": [],
   "source": []
  },
  {
   "cell_type": "markdown",
   "metadata": {},
   "source": [
    "### 73、TSF                 Time Series Forecast\n",
    "$$时间序列预测\\\\一种历史资料延伸预测，也称历史引伸预测法。是以时间数列所能反映的社会经济现象的发展过程和规律性，进行引伸外推，预测其发展趋势的方法。\\\\方法多种。$$"
   ]
  },
  {
   "cell_type": "code",
   "execution_count": null,
   "metadata": {},
   "outputs": [],
   "source": []
  },
  {
   "cell_type": "markdown",
   "metadata": {},
   "source": [
    "### 74、TYPPRICE            Typical Price\n",
    "$$TYPPRICE=\\dfrac{High_t+Low_t+Close_t}{3}$$"
   ]
  },
  {
   "cell_type": "code",
   "execution_count": null,
   "metadata": {},
   "outputs": [],
   "source": []
  },
  {
   "cell_type": "markdown",
   "metadata": {},
   "source": [
    "### 75、ULTOSC              Ultimate Oscillator\n",
    "$$\\text{UltOsc} = 4 \\cdot \\frac{\\text{SMA}(bp)_{1}}{\\text{SMA}(tr)_{1}} + 2 \\cdot \\frac{\\text{SMA}(bp)_{2}}{\\text{SMA}(tr)_{2}} + \\frac{1}{7} \\cdot \\frac{\\text{SMA}(bp)_{3}}{\\text{SMA}(tr)_{3}}\\\\\n",
    "\\text{bp}_{t} = \\text{Close}_{t} - \\min\\left( \\text{Low}_{t},\\text{Close}_{t - 1} \\right)\\\\\n",
    "\\text{tr}_{t} = \\max(\\text{High}_{t},\\text{Close}_{t - 1}) - \\min(\\text{Low}_{t},\\text{Close}_{t - 1})\\\\\n",
    "注：公式表示的是今日最高价、今日最低价和昨日收盘价三者中最大距离。\n",
    "$$"
   ]
  },
  {
   "cell_type": "code",
   "execution_count": null,
   "metadata": {},
   "outputs": [],
   "source": []
  },
  {
   "cell_type": "markdown",
   "metadata": {},
   "source": [
    "### 76、VAR                 Variance(方差)"
   ]
  },
  {
   "cell_type": "code",
   "execution_count": null,
   "metadata": {},
   "outputs": [],
   "source": []
  },
  {
   "cell_type": "markdown",
   "metadata": {},
   "source": [
    "### 77、WCLPRICE            Weighted Close Price\n",
    "$$\\text{WCLPRICE} = \\frac{\\text{High}_{t} + \\text{Low}_{t} + 2 \\cdot \\text{Close}_{t}}{4}\n",
    "$$"
   ]
  },
  {
   "cell_type": "code",
   "execution_count": null,
   "metadata": {},
   "outputs": [],
   "source": []
  },
  {
   "cell_type": "markdown",
   "metadata": {},
   "source": [
    "### 78、WILLR               Williams' %R\n",
    "$$W\\% R = \\frac{\\min_{p}\\text{Low} - \\text{Close}_{t}}{\\max_{p}\\text{High} - \\min_{p}\\text{Low}} \\cdot 100\n",
    "\\\\注：W%R的值由 80 以下向上突破 80 时，有人把它称为买进线；当W%R的值由 20\n",
    "以上向下跌破 20 时，人们把它称为卖出线。$$"
   ]
  },
  {
   "cell_type": "code",
   "execution_count": null,
   "metadata": {},
   "outputs": [],
   "source": []
  },
  {
   "cell_type": "markdown",
   "metadata": {},
   "source": [
    "### 79、WMA                 Weighted Moving Average\n",
    "$$\\text{WMA}_{t} = \\sum_{i = t - p + 1}^{t}\\delta_{i - t + p}x_{i}\\quad\\text{where}\\sum_{i = 1}^{p}\\delta_{i} = 1\\\\\n",
    "\\delta_{i} = \\frac{2i}{p + p^{2}}\n",
    "$$"
   ]
  },
  {
   "cell_type": "code",
   "execution_count": null,
   "metadata": {},
   "outputs": [],
   "source": []
  }
 ],
 "metadata": {
  "kernelspec": {
   "display_name": "Python 3",
   "language": "python",
   "name": "python3"
  },
  "language_info": {
   "codemirror_mode": {
    "name": "ipython",
    "version": 3
   },
   "file_extension": ".py",
   "mimetype": "text/x-python",
   "name": "python",
   "nbconvert_exporter": "python",
   "pygments_lexer": "ipython3",
   "version": "3.7.3"
  }
 },
 "nbformat": 4,
 "nbformat_minor": 2
}
